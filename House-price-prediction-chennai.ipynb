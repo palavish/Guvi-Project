{
 "cells": [
  {
   "cell_type": "code",
   "execution_count": 1,
   "id": "4720b2b7",
   "metadata": {},
   "outputs": [],
   "source": [
    "import pandas as pd\n",
    "import numpy as np\n",
    "from matplotlib import pyplot as plt\n",
    "import seaborn as sns"
   ]
  },
  {
   "cell_type": "code",
   "execution_count": 2,
   "id": "f661c88a",
   "metadata": {},
   "outputs": [],
   "source": [
    "df = pd.read_csv(\"train-chennai-sale.csv\")"
   ]
  },
  {
   "cell_type": "code",
   "execution_count": 3,
   "id": "bf0878f1",
   "metadata": {},
   "outputs": [
    {
     "data": {
      "text/html": [
       "<div>\n",
       "<style scoped>\n",
       "    .dataframe tbody tr th:only-of-type {\n",
       "        vertical-align: middle;\n",
       "    }\n",
       "\n",
       "    .dataframe tbody tr th {\n",
       "        vertical-align: top;\n",
       "    }\n",
       "\n",
       "    .dataframe thead th {\n",
       "        text-align: right;\n",
       "    }\n",
       "</style>\n",
       "<table border=\"1\" class=\"dataframe\">\n",
       "  <thead>\n",
       "    <tr style=\"text-align: right;\">\n",
       "      <th></th>\n",
       "      <th>PRT_ID</th>\n",
       "      <th>AREA</th>\n",
       "      <th>INT_SQFT</th>\n",
       "      <th>DATE_SALE</th>\n",
       "      <th>DIST_MAINROAD</th>\n",
       "      <th>N_BEDROOM</th>\n",
       "      <th>N_BATHROOM</th>\n",
       "      <th>N_ROOM</th>\n",
       "      <th>SALE_COND</th>\n",
       "      <th>PARK_FACIL</th>\n",
       "      <th>...</th>\n",
       "      <th>UTILITY_AVAIL</th>\n",
       "      <th>STREET</th>\n",
       "      <th>MZZONE</th>\n",
       "      <th>QS_ROOMS</th>\n",
       "      <th>QS_BATHROOM</th>\n",
       "      <th>QS_BEDROOM</th>\n",
       "      <th>QS_OVERALL</th>\n",
       "      <th>REG_FEE</th>\n",
       "      <th>COMMIS</th>\n",
       "      <th>SALES_PRICE</th>\n",
       "    </tr>\n",
       "  </thead>\n",
       "  <tbody>\n",
       "    <tr>\n",
       "      <th>0</th>\n",
       "      <td>P03210</td>\n",
       "      <td>Karapakkam</td>\n",
       "      <td>1004</td>\n",
       "      <td>04-05-2011</td>\n",
       "      <td>131</td>\n",
       "      <td>1.0</td>\n",
       "      <td>1.0</td>\n",
       "      <td>3</td>\n",
       "      <td>AbNormal</td>\n",
       "      <td>Yes</td>\n",
       "      <td>...</td>\n",
       "      <td>AllPub</td>\n",
       "      <td>Paved</td>\n",
       "      <td>A</td>\n",
       "      <td>4.0</td>\n",
       "      <td>3.9</td>\n",
       "      <td>4.9</td>\n",
       "      <td>4.330</td>\n",
       "      <td>380000</td>\n",
       "      <td>144400</td>\n",
       "      <td>7600000</td>\n",
       "    </tr>\n",
       "    <tr>\n",
       "      <th>1</th>\n",
       "      <td>P09411</td>\n",
       "      <td>Anna Nagar</td>\n",
       "      <td>1986</td>\n",
       "      <td>19-12-2006</td>\n",
       "      <td>26</td>\n",
       "      <td>2.0</td>\n",
       "      <td>1.0</td>\n",
       "      <td>5</td>\n",
       "      <td>AbNormal</td>\n",
       "      <td>No</td>\n",
       "      <td>...</td>\n",
       "      <td>AllPub</td>\n",
       "      <td>Gravel</td>\n",
       "      <td>RH</td>\n",
       "      <td>4.9</td>\n",
       "      <td>4.2</td>\n",
       "      <td>2.5</td>\n",
       "      <td>3.765</td>\n",
       "      <td>760122</td>\n",
       "      <td>304049</td>\n",
       "      <td>21717770</td>\n",
       "    </tr>\n",
       "    <tr>\n",
       "      <th>2</th>\n",
       "      <td>P01812</td>\n",
       "      <td>Adyar</td>\n",
       "      <td>909</td>\n",
       "      <td>04-02-2012</td>\n",
       "      <td>70</td>\n",
       "      <td>1.0</td>\n",
       "      <td>1.0</td>\n",
       "      <td>3</td>\n",
       "      <td>AbNormal</td>\n",
       "      <td>Yes</td>\n",
       "      <td>...</td>\n",
       "      <td>ELO</td>\n",
       "      <td>Gravel</td>\n",
       "      <td>RL</td>\n",
       "      <td>4.1</td>\n",
       "      <td>3.8</td>\n",
       "      <td>2.2</td>\n",
       "      <td>3.090</td>\n",
       "      <td>421094</td>\n",
       "      <td>92114</td>\n",
       "      <td>13159200</td>\n",
       "    </tr>\n",
       "    <tr>\n",
       "      <th>3</th>\n",
       "      <td>P05346</td>\n",
       "      <td>Velachery</td>\n",
       "      <td>1855</td>\n",
       "      <td>13-03-2010</td>\n",
       "      <td>14</td>\n",
       "      <td>3.0</td>\n",
       "      <td>2.0</td>\n",
       "      <td>5</td>\n",
       "      <td>Family</td>\n",
       "      <td>No</td>\n",
       "      <td>...</td>\n",
       "      <td>NoSewr</td>\n",
       "      <td>Paved</td>\n",
       "      <td>I</td>\n",
       "      <td>4.7</td>\n",
       "      <td>3.9</td>\n",
       "      <td>3.6</td>\n",
       "      <td>4.010</td>\n",
       "      <td>356321</td>\n",
       "      <td>77042</td>\n",
       "      <td>9630290</td>\n",
       "    </tr>\n",
       "    <tr>\n",
       "      <th>4</th>\n",
       "      <td>P06210</td>\n",
       "      <td>Karapakkam</td>\n",
       "      <td>1226</td>\n",
       "      <td>05-10-2009</td>\n",
       "      <td>84</td>\n",
       "      <td>1.0</td>\n",
       "      <td>1.0</td>\n",
       "      <td>3</td>\n",
       "      <td>AbNormal</td>\n",
       "      <td>Yes</td>\n",
       "      <td>...</td>\n",
       "      <td>AllPub</td>\n",
       "      <td>Gravel</td>\n",
       "      <td>C</td>\n",
       "      <td>3.0</td>\n",
       "      <td>2.5</td>\n",
       "      <td>4.1</td>\n",
       "      <td>3.290</td>\n",
       "      <td>237000</td>\n",
       "      <td>74063</td>\n",
       "      <td>7406250</td>\n",
       "    </tr>\n",
       "  </tbody>\n",
       "</table>\n",
       "<p>5 rows × 22 columns</p>\n",
       "</div>"
      ],
      "text/plain": [
       "   PRT_ID        AREA  INT_SQFT   DATE_SALE  DIST_MAINROAD  N_BEDROOM  \\\n",
       "0  P03210  Karapakkam      1004  04-05-2011            131        1.0   \n",
       "1  P09411  Anna Nagar      1986  19-12-2006             26        2.0   \n",
       "2  P01812       Adyar       909  04-02-2012             70        1.0   \n",
       "3  P05346   Velachery      1855  13-03-2010             14        3.0   \n",
       "4  P06210  Karapakkam      1226  05-10-2009             84        1.0   \n",
       "\n",
       "   N_BATHROOM  N_ROOM SALE_COND PARK_FACIL  ... UTILITY_AVAIL  STREET MZZONE  \\\n",
       "0         1.0       3  AbNormal        Yes  ...        AllPub   Paved      A   \n",
       "1         1.0       5  AbNormal         No  ...        AllPub  Gravel     RH   \n",
       "2         1.0       3  AbNormal        Yes  ...           ELO  Gravel     RL   \n",
       "3         2.0       5    Family         No  ...       NoSewr    Paved      I   \n",
       "4         1.0       3  AbNormal        Yes  ...        AllPub  Gravel      C   \n",
       "\n",
       "  QS_ROOMS QS_BATHROOM  QS_BEDROOM  QS_OVERALL  REG_FEE  COMMIS  SALES_PRICE  \n",
       "0      4.0         3.9         4.9       4.330   380000  144400      7600000  \n",
       "1      4.9         4.2         2.5       3.765   760122  304049     21717770  \n",
       "2      4.1         3.8         2.2       3.090   421094   92114     13159200  \n",
       "3      4.7         3.9         3.6       4.010   356321   77042      9630290  \n",
       "4      3.0         2.5         4.1       3.290   237000   74063      7406250  \n",
       "\n",
       "[5 rows x 22 columns]"
      ]
     },
     "execution_count": 3,
     "metadata": {},
     "output_type": "execute_result"
    }
   ],
   "source": [
    "df.head()"
   ]
  },
  {
   "cell_type": "code",
   "execution_count": 4,
   "id": "7672962e",
   "metadata": {},
   "outputs": [
    {
     "data": {
      "text/plain": [
       "(7109, 22)"
      ]
     },
     "execution_count": 4,
     "metadata": {},
     "output_type": "execute_result"
    }
   ],
   "source": [
    "df.shape"
   ]
  },
  {
   "cell_type": "code",
   "execution_count": 5,
   "id": "c875d65c",
   "metadata": {},
   "outputs": [
    {
     "data": {
      "text/plain": [
       "PRT_ID            0\n",
       "AREA              0\n",
       "INT_SQFT          0\n",
       "DATE_SALE         0\n",
       "DIST_MAINROAD     0\n",
       "N_BEDROOM         1\n",
       "N_BATHROOM        5\n",
       "N_ROOM            0\n",
       "SALE_COND         0\n",
       "PARK_FACIL        0\n",
       "DATE_BUILD        0\n",
       "BUILDTYPE         0\n",
       "UTILITY_AVAIL     0\n",
       "STREET            0\n",
       "MZZONE            0\n",
       "QS_ROOMS          0\n",
       "QS_BATHROOM       0\n",
       "QS_BEDROOM        0\n",
       "QS_OVERALL       48\n",
       "REG_FEE           0\n",
       "COMMIS            0\n",
       "SALES_PRICE       0\n",
       "dtype: int64"
      ]
     },
     "execution_count": 5,
     "metadata": {},
     "output_type": "execute_result"
    }
   ],
   "source": [
    "df.isnull().sum()"
   ]
  },
  {
   "cell_type": "code",
   "execution_count": 6,
   "id": "965297cb",
   "metadata": {},
   "outputs": [
    {
     "data": {
      "text/html": [
       "<div>\n",
       "<style scoped>\n",
       "    .dataframe tbody tr th:only-of-type {\n",
       "        vertical-align: middle;\n",
       "    }\n",
       "\n",
       "    .dataframe tbody tr th {\n",
       "        vertical-align: top;\n",
       "    }\n",
       "\n",
       "    .dataframe thead th {\n",
       "        text-align: right;\n",
       "    }\n",
       "</style>\n",
       "<table border=\"1\" class=\"dataframe\">\n",
       "  <thead>\n",
       "    <tr style=\"text-align: right;\">\n",
       "      <th></th>\n",
       "      <th>INT_SQFT</th>\n",
       "      <th>DIST_MAINROAD</th>\n",
       "      <th>N_BEDROOM</th>\n",
       "      <th>N_BATHROOM</th>\n",
       "      <th>N_ROOM</th>\n",
       "      <th>QS_ROOMS</th>\n",
       "      <th>QS_BATHROOM</th>\n",
       "      <th>QS_BEDROOM</th>\n",
       "      <th>QS_OVERALL</th>\n",
       "      <th>REG_FEE</th>\n",
       "      <th>COMMIS</th>\n",
       "      <th>SALES_PRICE</th>\n",
       "    </tr>\n",
       "  </thead>\n",
       "  <tbody>\n",
       "    <tr>\n",
       "      <th>count</th>\n",
       "      <td>7109.000000</td>\n",
       "      <td>7109.000000</td>\n",
       "      <td>7108.000000</td>\n",
       "      <td>7104.000000</td>\n",
       "      <td>7109.000000</td>\n",
       "      <td>7109.000000</td>\n",
       "      <td>7109.000000</td>\n",
       "      <td>7109.000000</td>\n",
       "      <td>7061.000000</td>\n",
       "      <td>7109.000000</td>\n",
       "      <td>7109.000000</td>\n",
       "      <td>7.109000e+03</td>\n",
       "    </tr>\n",
       "    <tr>\n",
       "      <th>mean</th>\n",
       "      <td>1382.073006</td>\n",
       "      <td>99.603179</td>\n",
       "      <td>1.637029</td>\n",
       "      <td>1.213260</td>\n",
       "      <td>3.688704</td>\n",
       "      <td>3.517471</td>\n",
       "      <td>3.507244</td>\n",
       "      <td>3.485300</td>\n",
       "      <td>3.503254</td>\n",
       "      <td>376938.330708</td>\n",
       "      <td>141005.726544</td>\n",
       "      <td>1.089491e+07</td>\n",
       "    </tr>\n",
       "    <tr>\n",
       "      <th>std</th>\n",
       "      <td>457.410902</td>\n",
       "      <td>57.403110</td>\n",
       "      <td>0.802902</td>\n",
       "      <td>0.409639</td>\n",
       "      <td>1.019099</td>\n",
       "      <td>0.891972</td>\n",
       "      <td>0.897834</td>\n",
       "      <td>0.887266</td>\n",
       "      <td>0.527223</td>\n",
       "      <td>143070.662010</td>\n",
       "      <td>78768.093718</td>\n",
       "      <td>3.768603e+06</td>\n",
       "    </tr>\n",
       "    <tr>\n",
       "      <th>min</th>\n",
       "      <td>500.000000</td>\n",
       "      <td>0.000000</td>\n",
       "      <td>1.000000</td>\n",
       "      <td>1.000000</td>\n",
       "      <td>2.000000</td>\n",
       "      <td>2.000000</td>\n",
       "      <td>2.000000</td>\n",
       "      <td>2.000000</td>\n",
       "      <td>2.000000</td>\n",
       "      <td>71177.000000</td>\n",
       "      <td>5055.000000</td>\n",
       "      <td>2.156875e+06</td>\n",
       "    </tr>\n",
       "    <tr>\n",
       "      <th>25%</th>\n",
       "      <td>993.000000</td>\n",
       "      <td>50.000000</td>\n",
       "      <td>1.000000</td>\n",
       "      <td>1.000000</td>\n",
       "      <td>3.000000</td>\n",
       "      <td>2.700000</td>\n",
       "      <td>2.700000</td>\n",
       "      <td>2.700000</td>\n",
       "      <td>3.130000</td>\n",
       "      <td>272406.000000</td>\n",
       "      <td>84219.000000</td>\n",
       "      <td>8.272100e+06</td>\n",
       "    </tr>\n",
       "    <tr>\n",
       "      <th>50%</th>\n",
       "      <td>1373.000000</td>\n",
       "      <td>99.000000</td>\n",
       "      <td>1.000000</td>\n",
       "      <td>1.000000</td>\n",
       "      <td>4.000000</td>\n",
       "      <td>3.500000</td>\n",
       "      <td>3.500000</td>\n",
       "      <td>3.500000</td>\n",
       "      <td>3.500000</td>\n",
       "      <td>349486.000000</td>\n",
       "      <td>127628.000000</td>\n",
       "      <td>1.033505e+07</td>\n",
       "    </tr>\n",
       "    <tr>\n",
       "      <th>75%</th>\n",
       "      <td>1744.000000</td>\n",
       "      <td>148.000000</td>\n",
       "      <td>2.000000</td>\n",
       "      <td>1.000000</td>\n",
       "      <td>4.000000</td>\n",
       "      <td>4.300000</td>\n",
       "      <td>4.300000</td>\n",
       "      <td>4.300000</td>\n",
       "      <td>3.890000</td>\n",
       "      <td>451562.000000</td>\n",
       "      <td>184506.000000</td>\n",
       "      <td>1.299390e+07</td>\n",
       "    </tr>\n",
       "    <tr>\n",
       "      <th>max</th>\n",
       "      <td>2500.000000</td>\n",
       "      <td>200.000000</td>\n",
       "      <td>4.000000</td>\n",
       "      <td>2.000000</td>\n",
       "      <td>6.000000</td>\n",
       "      <td>5.000000</td>\n",
       "      <td>5.000000</td>\n",
       "      <td>5.000000</td>\n",
       "      <td>4.970000</td>\n",
       "      <td>983922.000000</td>\n",
       "      <td>495405.000000</td>\n",
       "      <td>2.366734e+07</td>\n",
       "    </tr>\n",
       "  </tbody>\n",
       "</table>\n",
       "</div>"
      ],
      "text/plain": [
       "          INT_SQFT  DIST_MAINROAD    N_BEDROOM   N_BATHROOM       N_ROOM  \\\n",
       "count  7109.000000    7109.000000  7108.000000  7104.000000  7109.000000   \n",
       "mean   1382.073006      99.603179     1.637029     1.213260     3.688704   \n",
       "std     457.410902      57.403110     0.802902     0.409639     1.019099   \n",
       "min     500.000000       0.000000     1.000000     1.000000     2.000000   \n",
       "25%     993.000000      50.000000     1.000000     1.000000     3.000000   \n",
       "50%    1373.000000      99.000000     1.000000     1.000000     4.000000   \n",
       "75%    1744.000000     148.000000     2.000000     1.000000     4.000000   \n",
       "max    2500.000000     200.000000     4.000000     2.000000     6.000000   \n",
       "\n",
       "          QS_ROOMS  QS_BATHROOM   QS_BEDROOM   QS_OVERALL        REG_FEE  \\\n",
       "count  7109.000000  7109.000000  7109.000000  7061.000000    7109.000000   \n",
       "mean      3.517471     3.507244     3.485300     3.503254  376938.330708   \n",
       "std       0.891972     0.897834     0.887266     0.527223  143070.662010   \n",
       "min       2.000000     2.000000     2.000000     2.000000   71177.000000   \n",
       "25%       2.700000     2.700000     2.700000     3.130000  272406.000000   \n",
       "50%       3.500000     3.500000     3.500000     3.500000  349486.000000   \n",
       "75%       4.300000     4.300000     4.300000     3.890000  451562.000000   \n",
       "max       5.000000     5.000000     5.000000     4.970000  983922.000000   \n",
       "\n",
       "              COMMIS   SALES_PRICE  \n",
       "count    7109.000000  7.109000e+03  \n",
       "mean   141005.726544  1.089491e+07  \n",
       "std     78768.093718  3.768603e+06  \n",
       "min      5055.000000  2.156875e+06  \n",
       "25%     84219.000000  8.272100e+06  \n",
       "50%    127628.000000  1.033505e+07  \n",
       "75%    184506.000000  1.299390e+07  \n",
       "max    495405.000000  2.366734e+07  "
      ]
     },
     "execution_count": 6,
     "metadata": {},
     "output_type": "execute_result"
    }
   ],
   "source": [
    "df.describe()"
   ]
  },
  {
   "cell_type": "code",
   "execution_count": 7,
   "id": "cc9f031c",
   "metadata": {},
   "outputs": [
    {
     "name": "stdout",
     "output_type": "stream",
     "text": [
      "<class 'pandas.core.frame.DataFrame'>\n",
      "RangeIndex: 7109 entries, 0 to 7108\n",
      "Data columns (total 22 columns):\n",
      " #   Column         Non-Null Count  Dtype  \n",
      "---  ------         --------------  -----  \n",
      " 0   PRT_ID         7109 non-null   object \n",
      " 1   AREA           7109 non-null   object \n",
      " 2   INT_SQFT       7109 non-null   int64  \n",
      " 3   DATE_SALE      7109 non-null   object \n",
      " 4   DIST_MAINROAD  7109 non-null   int64  \n",
      " 5   N_BEDROOM      7108 non-null   float64\n",
      " 6   N_BATHROOM     7104 non-null   float64\n",
      " 7   N_ROOM         7109 non-null   int64  \n",
      " 8   SALE_COND      7109 non-null   object \n",
      " 9   PARK_FACIL     7109 non-null   object \n",
      " 10  DATE_BUILD     7109 non-null   object \n",
      " 11  BUILDTYPE      7109 non-null   object \n",
      " 12  UTILITY_AVAIL  7109 non-null   object \n",
      " 13  STREET         7109 non-null   object \n",
      " 14  MZZONE         7109 non-null   object \n",
      " 15  QS_ROOMS       7109 non-null   float64\n",
      " 16  QS_BATHROOM    7109 non-null   float64\n",
      " 17  QS_BEDROOM     7109 non-null   float64\n",
      " 18  QS_OVERALL     7061 non-null   float64\n",
      " 19  REG_FEE        7109 non-null   int64  \n",
      " 20  COMMIS         7109 non-null   int64  \n",
      " 21  SALES_PRICE    7109 non-null   int64  \n",
      "dtypes: float64(6), int64(6), object(10)\n",
      "memory usage: 1.2+ MB\n"
     ]
    }
   ],
   "source": [
    "df.info()"
   ]
  },
  {
   "cell_type": "markdown",
   "id": "ec073a8e",
   "metadata": {},
   "source": [
    "# DATA CLEANING"
   ]
  },
  {
   "cell_type": "code",
   "execution_count": 8,
   "id": "e50d353b",
   "metadata": {},
   "outputs": [
    {
     "data": {
      "text/html": [
       "<div>\n",
       "<style scoped>\n",
       "    .dataframe tbody tr th:only-of-type {\n",
       "        vertical-align: middle;\n",
       "    }\n",
       "\n",
       "    .dataframe tbody tr th {\n",
       "        vertical-align: top;\n",
       "    }\n",
       "\n",
       "    .dataframe thead th {\n",
       "        text-align: right;\n",
       "    }\n",
       "</style>\n",
       "<table border=\"1\" class=\"dataframe\">\n",
       "  <thead>\n",
       "    <tr style=\"text-align: right;\">\n",
       "      <th></th>\n",
       "      <th>PRT_ID</th>\n",
       "      <th>AREA</th>\n",
       "      <th>INT_SQFT</th>\n",
       "      <th>DATE_SALE</th>\n",
       "      <th>DIST_MAINROAD</th>\n",
       "      <th>N_BEDROOM</th>\n",
       "      <th>N_BATHROOM</th>\n",
       "      <th>N_ROOM</th>\n",
       "      <th>SALE_COND</th>\n",
       "      <th>PARK_FACIL</th>\n",
       "      <th>...</th>\n",
       "      <th>UTILITY_AVAIL</th>\n",
       "      <th>STREET</th>\n",
       "      <th>MZZONE</th>\n",
       "      <th>QS_ROOMS</th>\n",
       "      <th>QS_BATHROOM</th>\n",
       "      <th>QS_BEDROOM</th>\n",
       "      <th>QS_OVERALL</th>\n",
       "      <th>REG_FEE</th>\n",
       "      <th>COMMIS</th>\n",
       "      <th>SALES_PRICE</th>\n",
       "    </tr>\n",
       "  </thead>\n",
       "  <tbody>\n",
       "  </tbody>\n",
       "</table>\n",
       "<p>0 rows × 22 columns</p>\n",
       "</div>"
      ],
      "text/plain": [
       "Empty DataFrame\n",
       "Columns: [PRT_ID, AREA, INT_SQFT, DATE_SALE, DIST_MAINROAD, N_BEDROOM, N_BATHROOM, N_ROOM, SALE_COND, PARK_FACIL, DATE_BUILD, BUILDTYPE, UTILITY_AVAIL, STREET, MZZONE, QS_ROOMS, QS_BATHROOM, QS_BEDROOM, QS_OVERALL, REG_FEE, COMMIS, SALES_PRICE]\n",
       "Index: []\n",
       "\n",
       "[0 rows x 22 columns]"
      ]
     },
     "execution_count": 8,
     "metadata": {},
     "output_type": "execute_result"
    }
   ],
   "source": [
    "df[df.duplicated()]"
   ]
  },
  {
   "cell_type": "code",
   "execution_count": 9,
   "id": "bce9bdb8",
   "metadata": {},
   "outputs": [
    {
     "data": {
      "text/html": [
       "<div>\n",
       "<style scoped>\n",
       "    .dataframe tbody tr th:only-of-type {\n",
       "        vertical-align: middle;\n",
       "    }\n",
       "\n",
       "    .dataframe tbody tr th {\n",
       "        vertical-align: top;\n",
       "    }\n",
       "\n",
       "    .dataframe thead th {\n",
       "        text-align: right;\n",
       "    }\n",
       "</style>\n",
       "<table border=\"1\" class=\"dataframe\">\n",
       "  <thead>\n",
       "    <tr style=\"text-align: right;\">\n",
       "      <th></th>\n",
       "      <th>AREA</th>\n",
       "      <th>INT_SQFT</th>\n",
       "      <th>DATE_SALE</th>\n",
       "      <th>DIST_MAINROAD</th>\n",
       "      <th>N_BEDROOM</th>\n",
       "      <th>N_BATHROOM</th>\n",
       "      <th>N_ROOM</th>\n",
       "      <th>PARK_FACIL</th>\n",
       "      <th>DATE_BUILD</th>\n",
       "      <th>BUILDTYPE</th>\n",
       "      <th>UTILITY_AVAIL</th>\n",
       "      <th>STREET</th>\n",
       "      <th>REG_FEE</th>\n",
       "      <th>COMMIS</th>\n",
       "      <th>SALES_PRICE</th>\n",
       "    </tr>\n",
       "  </thead>\n",
       "  <tbody>\n",
       "    <tr>\n",
       "      <th>0</th>\n",
       "      <td>Karapakkam</td>\n",
       "      <td>1004</td>\n",
       "      <td>04-05-2011</td>\n",
       "      <td>131</td>\n",
       "      <td>1.0</td>\n",
       "      <td>1.0</td>\n",
       "      <td>3</td>\n",
       "      <td>Yes</td>\n",
       "      <td>15-05-1967</td>\n",
       "      <td>Commercial</td>\n",
       "      <td>AllPub</td>\n",
       "      <td>Paved</td>\n",
       "      <td>380000</td>\n",
       "      <td>144400</td>\n",
       "      <td>7600000</td>\n",
       "    </tr>\n",
       "    <tr>\n",
       "      <th>1</th>\n",
       "      <td>Anna Nagar</td>\n",
       "      <td>1986</td>\n",
       "      <td>19-12-2006</td>\n",
       "      <td>26</td>\n",
       "      <td>2.0</td>\n",
       "      <td>1.0</td>\n",
       "      <td>5</td>\n",
       "      <td>No</td>\n",
       "      <td>22-12-1995</td>\n",
       "      <td>Commercial</td>\n",
       "      <td>AllPub</td>\n",
       "      <td>Gravel</td>\n",
       "      <td>760122</td>\n",
       "      <td>304049</td>\n",
       "      <td>21717770</td>\n",
       "    </tr>\n",
       "    <tr>\n",
       "      <th>2</th>\n",
       "      <td>Adyar</td>\n",
       "      <td>909</td>\n",
       "      <td>04-02-2012</td>\n",
       "      <td>70</td>\n",
       "      <td>1.0</td>\n",
       "      <td>1.0</td>\n",
       "      <td>3</td>\n",
       "      <td>Yes</td>\n",
       "      <td>09-02-1992</td>\n",
       "      <td>Commercial</td>\n",
       "      <td>ELO</td>\n",
       "      <td>Gravel</td>\n",
       "      <td>421094</td>\n",
       "      <td>92114</td>\n",
       "      <td>13159200</td>\n",
       "    </tr>\n",
       "    <tr>\n",
       "      <th>3</th>\n",
       "      <td>Velachery</td>\n",
       "      <td>1855</td>\n",
       "      <td>13-03-2010</td>\n",
       "      <td>14</td>\n",
       "      <td>3.0</td>\n",
       "      <td>2.0</td>\n",
       "      <td>5</td>\n",
       "      <td>No</td>\n",
       "      <td>18-03-1988</td>\n",
       "      <td>Others</td>\n",
       "      <td>NoSewr</td>\n",
       "      <td>Paved</td>\n",
       "      <td>356321</td>\n",
       "      <td>77042</td>\n",
       "      <td>9630290</td>\n",
       "    </tr>\n",
       "    <tr>\n",
       "      <th>4</th>\n",
       "      <td>Karapakkam</td>\n",
       "      <td>1226</td>\n",
       "      <td>05-10-2009</td>\n",
       "      <td>84</td>\n",
       "      <td>1.0</td>\n",
       "      <td>1.0</td>\n",
       "      <td>3</td>\n",
       "      <td>Yes</td>\n",
       "      <td>13-10-1979</td>\n",
       "      <td>Others</td>\n",
       "      <td>AllPub</td>\n",
       "      <td>Gravel</td>\n",
       "      <td>237000</td>\n",
       "      <td>74063</td>\n",
       "      <td>7406250</td>\n",
       "    </tr>\n",
       "  </tbody>\n",
       "</table>\n",
       "</div>"
      ],
      "text/plain": [
       "         AREA  INT_SQFT   DATE_SALE  DIST_MAINROAD  N_BEDROOM  N_BATHROOM  \\\n",
       "0  Karapakkam      1004  04-05-2011            131        1.0         1.0   \n",
       "1  Anna Nagar      1986  19-12-2006             26        2.0         1.0   \n",
       "2       Adyar       909  04-02-2012             70        1.0         1.0   \n",
       "3   Velachery      1855  13-03-2010             14        3.0         2.0   \n",
       "4  Karapakkam      1226  05-10-2009             84        1.0         1.0   \n",
       "\n",
       "   N_ROOM PARK_FACIL  DATE_BUILD   BUILDTYPE UTILITY_AVAIL  STREET  REG_FEE  \\\n",
       "0       3        Yes  15-05-1967  Commercial        AllPub   Paved   380000   \n",
       "1       5         No  22-12-1995  Commercial        AllPub  Gravel   760122   \n",
       "2       3        Yes  09-02-1992  Commercial           ELO  Gravel   421094   \n",
       "3       5         No  18-03-1988      Others       NoSewr    Paved   356321   \n",
       "4       3        Yes  13-10-1979      Others        AllPub  Gravel   237000   \n",
       "\n",
       "   COMMIS  SALES_PRICE  \n",
       "0  144400      7600000  \n",
       "1  304049     21717770  \n",
       "2   92114     13159200  \n",
       "3   77042      9630290  \n",
       "4   74063      7406250  "
      ]
     },
     "execution_count": 9,
     "metadata": {},
     "output_type": "execute_result"
    }
   ],
   "source": [
    "df = df.drop([\"PRT_ID\",\"QS_ROOMS\",\"QS_OVERALL\",\"QS_BEDROOM\",\"QS_ROOMS\",\"MZZONE\",\"SALE_COND\",\"QS_BATHROOM\"],axis = 1)\n",
    "df.head()"
   ]
  },
  {
   "cell_type": "code",
   "execution_count": 10,
   "id": "0fe2b269",
   "metadata": {},
   "outputs": [
    {
     "data": {
      "text/plain": [
       "AREA             0\n",
       "INT_SQFT         0\n",
       "DATE_SALE        0\n",
       "DIST_MAINROAD    0\n",
       "N_BEDROOM        0\n",
       "N_BATHROOM       0\n",
       "N_ROOM           0\n",
       "PARK_FACIL       0\n",
       "DATE_BUILD       0\n",
       "BUILDTYPE        0\n",
       "UTILITY_AVAIL    0\n",
       "STREET           0\n",
       "REG_FEE          0\n",
       "COMMIS           0\n",
       "SALES_PRICE      0\n",
       "dtype: int64"
      ]
     },
     "execution_count": 10,
     "metadata": {},
     "output_type": "execute_result"
    }
   ],
   "source": [
    "df[\"N_BEDROOM\"] = df[\"N_BEDROOM\"].fillna(df[\"N_BEDROOM\"].mean())\n",
    "df[\"N_BATHROOM\"] = df[\"N_BATHROOM\"].fillna(df[\"N_BATHROOM\"].mean())\n",
    "df.isnull().sum()"
   ]
  },
  {
   "cell_type": "code",
   "execution_count": 11,
   "id": "69db4f8a",
   "metadata": {},
   "outputs": [
    {
     "data": {
      "text/plain": [
       "array(['Karapakkam', 'Anna Nagar', 'Adyar', 'Velachery', 'Chrompet',\n",
       "       'KK Nagar', 'TNagar', 'T Nagar', 'Chrompt', 'Chrmpet', 'Karapakam',\n",
       "       'Ana Nagar', 'Chormpet', 'Adyr', 'Velchery', 'Ann Nagar',\n",
       "       'KKNagar'], dtype=object)"
      ]
     },
     "execution_count": 11,
     "metadata": {},
     "output_type": "execute_result"
    }
   ],
   "source": [
    "df.AREA.unique()"
   ]
  },
  {
   "cell_type": "code",
   "execution_count": 12,
   "id": "57a50a1d",
   "metadata": {},
   "outputs": [
    {
     "data": {
      "text/plain": [
       "array(['Karapakkam', 'Anna Nagar', 'Adyar', 'Velachery', 'Chrompet',\n",
       "       'KK Nagar', 'T Nagar'], dtype=object)"
      ]
     },
     "execution_count": 12,
     "metadata": {},
     "output_type": "execute_result"
    }
   ],
   "source": [
    "df[\"AREA\"].replace([\"Ann Nagar\",\"Ana Nagar\",\"Velchery\",\"Adyr\",\"Chormpet\",\"Karapakam\",\"Chrmpet\",\"Chrompt\",\"TNagar\",\"KKNagar\"],[\"Anna Nagar\",\"Anna Nagar\",\"Velachery\",\"Adyar\",\"Chrompet\",\"Karapakkam\",\"Chrompet\",\"Chrompet\",\"T Nagar\",\"KK Nagar\"],inplace=True)\n",
    "df.AREA.unique()"
   ]
  },
  {
   "cell_type": "code",
   "execution_count": 13,
   "id": "d20d5e19",
   "metadata": {},
   "outputs": [
    {
     "data": {
      "text/plain": [
       "array(['Yes', 'No', 'Noo'], dtype=object)"
      ]
     },
     "execution_count": 13,
     "metadata": {},
     "output_type": "execute_result"
    }
   ],
   "source": [
    "df.PARK_FACIL.unique()"
   ]
  },
  {
   "cell_type": "code",
   "execution_count": 14,
   "id": "e6574f9a",
   "metadata": {},
   "outputs": [
    {
     "data": {
      "text/plain": [
       "array(['Yes', 'No'], dtype=object)"
      ]
     },
     "execution_count": 14,
     "metadata": {},
     "output_type": "execute_result"
    }
   ],
   "source": [
    "df[\"PARK_FACIL\"].replace([\"Noo\"],[\"No\"],inplace=True)\n",
    "df.PARK_FACIL.unique()"
   ]
  },
  {
   "cell_type": "code",
   "execution_count": 15,
   "id": "a8d09b17",
   "metadata": {},
   "outputs": [
    {
     "data": {
      "text/plain": [
       "array(['Commercial', 'Others', 'Other', 'House', 'Comercial'],\n",
       "      dtype=object)"
      ]
     },
     "execution_count": 15,
     "metadata": {},
     "output_type": "execute_result"
    }
   ],
   "source": [
    "df.BUILDTYPE.unique()"
   ]
  },
  {
   "cell_type": "code",
   "execution_count": 16,
   "id": "c09db21a",
   "metadata": {},
   "outputs": [
    {
     "data": {
      "text/plain": [
       "array(['Commercial', 'Others', 'House'], dtype=object)"
      ]
     },
     "execution_count": 16,
     "metadata": {},
     "output_type": "execute_result"
    }
   ],
   "source": [
    "df[\"BUILDTYPE\"].replace([\"Comercial\",\"Other\"],[\"Commercial\",\"Others\"],inplace = True)\n",
    "df.BUILDTYPE.unique()"
   ]
  },
  {
   "cell_type": "code",
   "execution_count": 17,
   "id": "a339490b",
   "metadata": {},
   "outputs": [
    {
     "data": {
      "text/plain": [
       "array(['Paved', 'Gravel', 'No Access', 'Pavd', 'NoAccess'], dtype=object)"
      ]
     },
     "execution_count": 17,
     "metadata": {},
     "output_type": "execute_result"
    }
   ],
   "source": [
    "df.STREET.unique()"
   ]
  },
  {
   "cell_type": "code",
   "execution_count": 18,
   "id": "38c35cb0",
   "metadata": {},
   "outputs": [
    {
     "data": {
      "text/plain": [
       "array(['Paved', 'Gravel', 'No Access'], dtype=object)"
      ]
     },
     "execution_count": 18,
     "metadata": {},
     "output_type": "execute_result"
    }
   ],
   "source": [
    "df[\"STREET\"].replace([\"Pavd\",\"NoAccess\"],[\"Paved\",\"No Access\"],inplace = True)\n",
    "df.STREET.unique()"
   ]
  },
  {
   "cell_type": "code",
   "execution_count": 19,
   "id": "cfddc986",
   "metadata": {},
   "outputs": [
    {
     "data": {
      "text/html": [
       "<div>\n",
       "<style scoped>\n",
       "    .dataframe tbody tr th:only-of-type {\n",
       "        vertical-align: middle;\n",
       "    }\n",
       "\n",
       "    .dataframe tbody tr th {\n",
       "        vertical-align: top;\n",
       "    }\n",
       "\n",
       "    .dataframe thead th {\n",
       "        text-align: right;\n",
       "    }\n",
       "</style>\n",
       "<table border=\"1\" class=\"dataframe\">\n",
       "  <thead>\n",
       "    <tr style=\"text-align: right;\">\n",
       "      <th></th>\n",
       "      <th>AREA</th>\n",
       "      <th>INT_SQFT</th>\n",
       "      <th>DATE_SALE</th>\n",
       "      <th>DIST_MAINROAD</th>\n",
       "      <th>N_BEDROOM</th>\n",
       "      <th>N_BATHROOM</th>\n",
       "      <th>N_ROOM</th>\n",
       "      <th>PARK_FACIL</th>\n",
       "      <th>DATE_BUILD</th>\n",
       "      <th>BUILDTYPE</th>\n",
       "      <th>STREET</th>\n",
       "      <th>REG_FEE</th>\n",
       "      <th>COMMIS</th>\n",
       "      <th>SALES_PRICE</th>\n",
       "    </tr>\n",
       "  </thead>\n",
       "  <tbody>\n",
       "    <tr>\n",
       "      <th>0</th>\n",
       "      <td>Karapakkam</td>\n",
       "      <td>1004</td>\n",
       "      <td>04-05-2011</td>\n",
       "      <td>131</td>\n",
       "      <td>1.0</td>\n",
       "      <td>1.0</td>\n",
       "      <td>3</td>\n",
       "      <td>Yes</td>\n",
       "      <td>15-05-1967</td>\n",
       "      <td>Commercial</td>\n",
       "      <td>Paved</td>\n",
       "      <td>380000</td>\n",
       "      <td>144400</td>\n",
       "      <td>7600000</td>\n",
       "    </tr>\n",
       "    <tr>\n",
       "      <th>1</th>\n",
       "      <td>Anna Nagar</td>\n",
       "      <td>1986</td>\n",
       "      <td>19-12-2006</td>\n",
       "      <td>26</td>\n",
       "      <td>2.0</td>\n",
       "      <td>1.0</td>\n",
       "      <td>5</td>\n",
       "      <td>No</td>\n",
       "      <td>22-12-1995</td>\n",
       "      <td>Commercial</td>\n",
       "      <td>Gravel</td>\n",
       "      <td>760122</td>\n",
       "      <td>304049</td>\n",
       "      <td>21717770</td>\n",
       "    </tr>\n",
       "    <tr>\n",
       "      <th>2</th>\n",
       "      <td>Adyar</td>\n",
       "      <td>909</td>\n",
       "      <td>04-02-2012</td>\n",
       "      <td>70</td>\n",
       "      <td>1.0</td>\n",
       "      <td>1.0</td>\n",
       "      <td>3</td>\n",
       "      <td>Yes</td>\n",
       "      <td>09-02-1992</td>\n",
       "      <td>Commercial</td>\n",
       "      <td>Gravel</td>\n",
       "      <td>421094</td>\n",
       "      <td>92114</td>\n",
       "      <td>13159200</td>\n",
       "    </tr>\n",
       "    <tr>\n",
       "      <th>3</th>\n",
       "      <td>Velachery</td>\n",
       "      <td>1855</td>\n",
       "      <td>13-03-2010</td>\n",
       "      <td>14</td>\n",
       "      <td>3.0</td>\n",
       "      <td>2.0</td>\n",
       "      <td>5</td>\n",
       "      <td>No</td>\n",
       "      <td>18-03-1988</td>\n",
       "      <td>Others</td>\n",
       "      <td>Paved</td>\n",
       "      <td>356321</td>\n",
       "      <td>77042</td>\n",
       "      <td>9630290</td>\n",
       "    </tr>\n",
       "    <tr>\n",
       "      <th>4</th>\n",
       "      <td>Karapakkam</td>\n",
       "      <td>1226</td>\n",
       "      <td>05-10-2009</td>\n",
       "      <td>84</td>\n",
       "      <td>1.0</td>\n",
       "      <td>1.0</td>\n",
       "      <td>3</td>\n",
       "      <td>Yes</td>\n",
       "      <td>13-10-1979</td>\n",
       "      <td>Others</td>\n",
       "      <td>Gravel</td>\n",
       "      <td>237000</td>\n",
       "      <td>74063</td>\n",
       "      <td>7406250</td>\n",
       "    </tr>\n",
       "  </tbody>\n",
       "</table>\n",
       "</div>"
      ],
      "text/plain": [
       "         AREA  INT_SQFT   DATE_SALE  DIST_MAINROAD  N_BEDROOM  N_BATHROOM  \\\n",
       "0  Karapakkam      1004  04-05-2011            131        1.0         1.0   \n",
       "1  Anna Nagar      1986  19-12-2006             26        2.0         1.0   \n",
       "2       Adyar       909  04-02-2012             70        1.0         1.0   \n",
       "3   Velachery      1855  13-03-2010             14        3.0         2.0   \n",
       "4  Karapakkam      1226  05-10-2009             84        1.0         1.0   \n",
       "\n",
       "   N_ROOM PARK_FACIL  DATE_BUILD   BUILDTYPE  STREET  REG_FEE  COMMIS  \\\n",
       "0       3        Yes  15-05-1967  Commercial   Paved   380000  144400   \n",
       "1       5         No  22-12-1995  Commercial  Gravel   760122  304049   \n",
       "2       3        Yes  09-02-1992  Commercial  Gravel   421094   92114   \n",
       "3       5         No  18-03-1988      Others   Paved   356321   77042   \n",
       "4       3        Yes  13-10-1979      Others  Gravel   237000   74063   \n",
       "\n",
       "   SALES_PRICE  \n",
       "0      7600000  \n",
       "1     21717770  \n",
       "2     13159200  \n",
       "3      9630290  \n",
       "4      7406250  "
      ]
     },
     "execution_count": 19,
     "metadata": {},
     "output_type": "execute_result"
    }
   ],
   "source": [
    "df = df.drop([\"UTILITY_AVAIL\"],axis =1)\n",
    "df.head()"
   ]
  },
  {
   "cell_type": "code",
   "execution_count": 20,
   "id": "b4db2b5b",
   "metadata": {},
   "outputs": [
    {
     "data": {
      "text/html": [
       "<div>\n",
       "<style scoped>\n",
       "    .dataframe tbody tr th:only-of-type {\n",
       "        vertical-align: middle;\n",
       "    }\n",
       "\n",
       "    .dataframe tbody tr th {\n",
       "        vertical-align: top;\n",
       "    }\n",
       "\n",
       "    .dataframe thead th {\n",
       "        text-align: right;\n",
       "    }\n",
       "</style>\n",
       "<table border=\"1\" class=\"dataframe\">\n",
       "  <thead>\n",
       "    <tr style=\"text-align: right;\">\n",
       "      <th></th>\n",
       "      <th>AREA</th>\n",
       "      <th>INT_SQFT</th>\n",
       "      <th>DIST_MAINROAD</th>\n",
       "      <th>N_BEDROOM</th>\n",
       "      <th>N_BATHROOM</th>\n",
       "      <th>N_ROOM</th>\n",
       "      <th>PARK_FACIL</th>\n",
       "      <th>BUILDTYPE</th>\n",
       "      <th>STREET</th>\n",
       "      <th>REG_FEE</th>\n",
       "      <th>COMMIS</th>\n",
       "      <th>SALES_PRICE</th>\n",
       "      <th>BUILD_YEAR</th>\n",
       "      <th>SALE_YEAR</th>\n",
       "      <th>SOLD_AGE</th>\n",
       "    </tr>\n",
       "  </thead>\n",
       "  <tbody>\n",
       "    <tr>\n",
       "      <th>0</th>\n",
       "      <td>Karapakkam</td>\n",
       "      <td>1004</td>\n",
       "      <td>131</td>\n",
       "      <td>1.0</td>\n",
       "      <td>1.0</td>\n",
       "      <td>3</td>\n",
       "      <td>Yes</td>\n",
       "      <td>Commercial</td>\n",
       "      <td>Paved</td>\n",
       "      <td>380000</td>\n",
       "      <td>144400</td>\n",
       "      <td>7600000</td>\n",
       "      <td>1967</td>\n",
       "      <td>2011</td>\n",
       "      <td>44</td>\n",
       "    </tr>\n",
       "    <tr>\n",
       "      <th>1</th>\n",
       "      <td>Anna Nagar</td>\n",
       "      <td>1986</td>\n",
       "      <td>26</td>\n",
       "      <td>2.0</td>\n",
       "      <td>1.0</td>\n",
       "      <td>5</td>\n",
       "      <td>No</td>\n",
       "      <td>Commercial</td>\n",
       "      <td>Gravel</td>\n",
       "      <td>760122</td>\n",
       "      <td>304049</td>\n",
       "      <td>21717770</td>\n",
       "      <td>1995</td>\n",
       "      <td>2006</td>\n",
       "      <td>11</td>\n",
       "    </tr>\n",
       "    <tr>\n",
       "      <th>2</th>\n",
       "      <td>Adyar</td>\n",
       "      <td>909</td>\n",
       "      <td>70</td>\n",
       "      <td>1.0</td>\n",
       "      <td>1.0</td>\n",
       "      <td>3</td>\n",
       "      <td>Yes</td>\n",
       "      <td>Commercial</td>\n",
       "      <td>Gravel</td>\n",
       "      <td>421094</td>\n",
       "      <td>92114</td>\n",
       "      <td>13159200</td>\n",
       "      <td>1992</td>\n",
       "      <td>2012</td>\n",
       "      <td>20</td>\n",
       "    </tr>\n",
       "    <tr>\n",
       "      <th>3</th>\n",
       "      <td>Velachery</td>\n",
       "      <td>1855</td>\n",
       "      <td>14</td>\n",
       "      <td>3.0</td>\n",
       "      <td>2.0</td>\n",
       "      <td>5</td>\n",
       "      <td>No</td>\n",
       "      <td>Others</td>\n",
       "      <td>Paved</td>\n",
       "      <td>356321</td>\n",
       "      <td>77042</td>\n",
       "      <td>9630290</td>\n",
       "      <td>1988</td>\n",
       "      <td>2010</td>\n",
       "      <td>22</td>\n",
       "    </tr>\n",
       "    <tr>\n",
       "      <th>4</th>\n",
       "      <td>Karapakkam</td>\n",
       "      <td>1226</td>\n",
       "      <td>84</td>\n",
       "      <td>1.0</td>\n",
       "      <td>1.0</td>\n",
       "      <td>3</td>\n",
       "      <td>Yes</td>\n",
       "      <td>Others</td>\n",
       "      <td>Gravel</td>\n",
       "      <td>237000</td>\n",
       "      <td>74063</td>\n",
       "      <td>7406250</td>\n",
       "      <td>1979</td>\n",
       "      <td>2009</td>\n",
       "      <td>30</td>\n",
       "    </tr>\n",
       "  </tbody>\n",
       "</table>\n",
       "</div>"
      ],
      "text/plain": [
       "         AREA  INT_SQFT  DIST_MAINROAD  N_BEDROOM  N_BATHROOM  N_ROOM  \\\n",
       "0  Karapakkam      1004            131        1.0         1.0       3   \n",
       "1  Anna Nagar      1986             26        2.0         1.0       5   \n",
       "2       Adyar       909             70        1.0         1.0       3   \n",
       "3   Velachery      1855             14        3.0         2.0       5   \n",
       "4  Karapakkam      1226             84        1.0         1.0       3   \n",
       "\n",
       "  PARK_FACIL   BUILDTYPE  STREET  REG_FEE  COMMIS  SALES_PRICE  BUILD_YEAR  \\\n",
       "0        Yes  Commercial   Paved   380000  144400      7600000        1967   \n",
       "1         No  Commercial  Gravel   760122  304049     21717770        1995   \n",
       "2        Yes  Commercial  Gravel   421094   92114     13159200        1992   \n",
       "3         No      Others   Paved   356321   77042      9630290        1988   \n",
       "4        Yes      Others  Gravel   237000   74063      7406250        1979   \n",
       "\n",
       "   SALE_YEAR  SOLD_AGE  \n",
       "0       2011        44  \n",
       "1       2006        11  \n",
       "2       2012        20  \n",
       "3       2010        22  \n",
       "4       2009        30  "
      ]
     },
     "execution_count": 20,
     "metadata": {},
     "output_type": "execute_result"
    }
   ],
   "source": [
    "df['DATE_SALE']=pd.to_datetime(df['DATE_SALE'])\n",
    "df['DATE_BUILD']=pd.to_datetime(df['DATE_BUILD'])\n",
    "df['BUILD_YEAR'] = df['DATE_BUILD'].dt.year\n",
    "df['SALE_YEAR'] = df['DATE_SALE'].dt.year\n",
    "df[\"SOLD_AGE\"]=df['SALE_YEAR']-df['BUILD_YEAR']\n",
    "df = df.drop([\"DATE_SALE\",\"DATE_BUILD\"],axis =1)\n",
    "df.head()"
   ]
  },
  {
   "cell_type": "code",
   "execution_count": 21,
   "id": "19857199",
   "metadata": {},
   "outputs": [
    {
     "name": "stderr",
     "output_type": "stream",
     "text": [
      "C:\\Users\\palavish\\AppData\\Roaming\\Python\\Python38\\site-packages\\seaborn\\_decorators.py:36: FutureWarning: Pass the following variable as a keyword arg: x. From version 0.12, the only valid positional argument will be `data`, and passing other arguments without an explicit keyword will result in an error or misinterpretation.\n",
      "  warnings.warn(\n"
     ]
    },
    {
     "data": {
      "image/png": "[encoded data removed]",
      "text/plain": [
       "<Figure size 432x288 with 1 Axes>"
      ]
     },
     "metadata": {
      "needs_background": "light"
     },
     "output_type": "display_data"
    }
   ],
   "source": [
    "sns.countplot(df['AREA'])\n",
    "import warnings\n",
    "warnings.filterwarnings('ignore')"
   ]
  },
  {
   "cell_type": "code",
   "execution_count": 22,
   "id": "2a374eef",
   "metadata": {},
   "outputs": [
    {
     "data": {
      "text/plain": [
       "<AxesSubplot:xlabel='BUILDTYPE', ylabel='count'>"
      ]
     },
     "execution_count": 22,
     "metadata": {},
     "output_type": "execute_result"
    },
    {
     "data": {
      "image/png": "[encoded data removed]",
      "text/plain": [
       "<Figure size 432x288 with 1 Axes>"
      ]
     },
     "metadata": {
      "needs_background": "light"
     },
     "output_type": "display_data"
    }
   ],
   "source": [
    "sns.countplot(df['BUILDTYPE'])"
   ]
  },
  {
   "cell_type": "code",
   "execution_count": 23,
   "id": "0fecb7ac",
   "metadata": {},
   "outputs": [
    {
     "data": {
      "text/plain": [
       "<AxesSubplot:xlabel='SALES_PRICE', ylabel='Density'>"
      ]
     },
     "execution_count": 23,
     "metadata": {},
     "output_type": "execute_result"
    },
    {
     "data": {
      "image/png": "[encoded data removed]",
      "text/plain": [
       "<Figure size 432x288 with 1 Axes>"
      ]
     },
     "metadata": {
      "needs_background": "light"
     },
     "output_type": "display_data"
    }
   ],
   "source": [
    "sns.distplot(df['SALES_PRICE'])"
   ]
  },
  {
   "cell_type": "markdown",
   "id": "4fdd4a70",
   "metadata": {},
   "source": [
    "#Right skewed Distribution showing some outliers in sale price"
   ]
  },
  {
   "cell_type": "code",
   "execution_count": 24,
   "id": "462c7f84",
   "metadata": {},
   "outputs": [
    {
     "data": {
      "image/png": "[encoded data removed]",
      "text/plain": [
       "<Figure size 432x288 with 1 Axes>"
      ]
     },
     "metadata": {
      "needs_background": "light"
     },
     "output_type": "display_data"
    }
   ],
   "source": [
    "sns.lineplot(x=df[\"INT_SQFT\"], y=df[\"SALES_PRICE\"],data = df)\n",
    "plt.show()"
   ]
  },
  {
   "cell_type": "code",
   "execution_count": 25,
   "id": "dc772e30",
   "metadata": {},
   "outputs": [
    {
     "data": {
      "image/png": "[encoded data removed]",
      "text/plain": [
       "<Figure size 432x288 with 1 Axes>"
      ]
     },
     "metadata": {
      "needs_background": "light"
     },
     "output_type": "display_data"
    },
    {
     "data": {
      "image/png": "[encoded data removed]",
      "text/plain": [
       "<Figure size 432x288 with 1 Axes>"
      ]
     },
     "metadata": {
      "needs_background": "light"
     },
     "output_type": "display_data"
    },
    {
     "data": {
      "image/png": "[encoded data removed]",
      "text/plain": [
       "<Figure size 432x288 with 1 Axes>"
      ]
     },
     "metadata": {
      "needs_background": "light"
     },
     "output_type": "display_data"
    },
    {
     "data": {
      "image/png": "[encoded data removed]",
      "text/plain": [
       "<Figure size 432x288 with 1 Axes>"
      ]
     },
     "metadata": {
      "needs_background": "light"
     },
     "output_type": "display_data"
    },
    {
     "data": {
      "image/png": "[encoded data removed]",
      "text/plain": [
       "<Figure size 432x288 with 1 Axes>"
      ]
     },
     "metadata": {
      "needs_background": "light"
     },
     "output_type": "display_data"
    },
    {
     "data": {
      "image/png": "[encoded data removed]",
      "text/plain": [
       "<Figure size 432x288 with 1 Axes>"
      ]
     },
     "metadata": {
      "needs_background": "light"
     },
     "output_type": "display_data"
    },
    {
     "data": {
      "image/png": "[encoded data removed]",
      "text/plain": [
       "<Figure size 432x288 with 1 Axes>"
      ]
     },
     "metadata": {
      "needs_background": "light"
     },
     "output_type": "display_data"
    },
    {
     "data": {
      "image/png": "[encoded data removed]",
      "text/plain": [
       "<Figure size 432x288 with 1 Axes>"
      ]
     },
     "metadata": {
      "needs_background": "light"
     },
     "output_type": "display_data"
    }
   ],
   "source": [
    "X = [\"AREA\",\"N_BEDROOM\",\"N_BATHROOM\",\"N_ROOM\",\"BUILDTYPE\",\"STREET\",\"SALE_YEAR\",\"PARK_FACIL\"]\n",
    "for i in df[X]:\n",
    "  sns.lineplot(x= df[i], y= df['SALES_PRICE'],data = df)\n",
    "  plt.show()"
   ]
  },
  {
   "cell_type": "code",
   "execution_count": 26,
   "id": "caa5add9",
   "metadata": {},
   "outputs": [
    {
     "data": {
      "image/png": "[encoded data removed]",
      "text/plain": [
       "<Figure size 432x288 with 1 Axes>"
      ]
     },
     "metadata": {
      "needs_background": "light"
     },
     "output_type": "display_data"
    },
    {
     "data": {
      "image/png": "[encoded data removed]",
      "text/plain": [
       "<Figure size 432x288 with 1 Axes>"
      ]
     },
     "metadata": {
      "needs_background": "light"
     },
     "output_type": "display_data"
    },
    {
     "data": {
      "image/png": "[encoded data removed]",
      "text/plain": [
       "<Figure size 432x288 with 1 Axes>"
      ]
     },
     "metadata": {
      "needs_background": "light"
     },
     "output_type": "display_data"
    },
    {
     "data": {
      "image/png": "[encoded data removed]",
      "text/plain": [
       "<Figure size 432x288 with 1 Axes>"
      ]
     },
     "metadata": {
      "needs_background": "light"
     },
     "output_type": "display_data"
    },
    {
     "data": {
      "image/png": "[encoded data removed]",
      "text/plain": [
       "<Figure size 432x288 with 1 Axes>"
      ]
     },
     "metadata": {
      "needs_background": "light"
     },
     "output_type": "display_data"
    },
    {
     "data": {
      "image/png": "[encoded data removed]",
      "text/plain": [
       "<Figure size 432x288 with 1 Axes>"
      ]
     },
     "metadata": {
      "needs_background": "light"
     },
     "output_type": "display_data"
    },
    {
     "data": {
      "image/png": "[encoded data removed]",
      "text/plain": [
       "<Figure size 432x288 with 1 Axes>"
      ]
     },
     "metadata": {
      "needs_background": "light"
     },
     "output_type": "display_data"
    },
    {
     "data": {
      "image/png": "[encoded data removed]",
      "text/plain": [
       "<Figure size 432x288 with 1 Axes>"
      ]
     },
     "metadata": {
      "needs_background": "light"
     },
     "output_type": "display_data"
    }
   ],
   "source": [
    "X = [\"AREA\",\"N_BEDROOM\",\"N_BATHROOM\",\"N_ROOM\",\"BUILDTYPE\",\"STREET\",\"SALE_YEAR\",\"PARK_FACIL\"]\n",
    "for i in df[X]:\n",
    "  sns.barplot(x= df[i], y= df['SALES_PRICE'],data = df)\n",
    "  plt.show()"
   ]
  },
  {
   "cell_type": "code",
   "execution_count": 27,
   "id": "49c79d1e",
   "metadata": {},
   "outputs": [
    {
     "data": {
      "text/html": [
       "<div>\n",
       "<style scoped>\n",
       "    .dataframe tbody tr th:only-of-type {\n",
       "        vertical-align: middle;\n",
       "    }\n",
       "\n",
       "    .dataframe tbody tr th {\n",
       "        vertical-align: top;\n",
       "    }\n",
       "\n",
       "    .dataframe thead th {\n",
       "        text-align: right;\n",
       "    }\n",
       "</style>\n",
       "<table border=\"1\" class=\"dataframe\">\n",
       "  <thead>\n",
       "    <tr style=\"text-align: right;\">\n",
       "      <th></th>\n",
       "      <th>INT_SQFT</th>\n",
       "      <th>DIST_MAINROAD</th>\n",
       "      <th>N_BEDROOM</th>\n",
       "      <th>N_BATHROOM</th>\n",
       "      <th>N_ROOM</th>\n",
       "      <th>REG_FEE</th>\n",
       "      <th>COMMIS</th>\n",
       "      <th>SALES_PRICE</th>\n",
       "      <th>BUILD_YEAR</th>\n",
       "      <th>SALE_YEAR</th>\n",
       "      <th>...</th>\n",
       "      <th>AREA_Chrompet</th>\n",
       "      <th>AREA_KK Nagar</th>\n",
       "      <th>AREA_Karapakkam</th>\n",
       "      <th>AREA_T Nagar</th>\n",
       "      <th>AREA_Velachery</th>\n",
       "      <th>PARK_FACIL_Yes</th>\n",
       "      <th>BUILDTYPE_House</th>\n",
       "      <th>BUILDTYPE_Others</th>\n",
       "      <th>STREET_No Access</th>\n",
       "      <th>STREET_Paved</th>\n",
       "    </tr>\n",
       "  </thead>\n",
       "  <tbody>\n",
       "    <tr>\n",
       "      <th>0</th>\n",
       "      <td>1004</td>\n",
       "      <td>131</td>\n",
       "      <td>1.0</td>\n",
       "      <td>1.0</td>\n",
       "      <td>3</td>\n",
       "      <td>380000</td>\n",
       "      <td>144400</td>\n",
       "      <td>7600000</td>\n",
       "      <td>1967</td>\n",
       "      <td>2011</td>\n",
       "      <td>...</td>\n",
       "      <td>0</td>\n",
       "      <td>0</td>\n",
       "      <td>1</td>\n",
       "      <td>0</td>\n",
       "      <td>0</td>\n",
       "      <td>1</td>\n",
       "      <td>0</td>\n",
       "      <td>0</td>\n",
       "      <td>0</td>\n",
       "      <td>1</td>\n",
       "    </tr>\n",
       "    <tr>\n",
       "      <th>1</th>\n",
       "      <td>1986</td>\n",
       "      <td>26</td>\n",
       "      <td>2.0</td>\n",
       "      <td>1.0</td>\n",
       "      <td>5</td>\n",
       "      <td>760122</td>\n",
       "      <td>304049</td>\n",
       "      <td>21717770</td>\n",
       "      <td>1995</td>\n",
       "      <td>2006</td>\n",
       "      <td>...</td>\n",
       "      <td>0</td>\n",
       "      <td>0</td>\n",
       "      <td>0</td>\n",
       "      <td>0</td>\n",
       "      <td>0</td>\n",
       "      <td>0</td>\n",
       "      <td>0</td>\n",
       "      <td>0</td>\n",
       "      <td>0</td>\n",
       "      <td>0</td>\n",
       "    </tr>\n",
       "    <tr>\n",
       "      <th>2</th>\n",
       "      <td>909</td>\n",
       "      <td>70</td>\n",
       "      <td>1.0</td>\n",
       "      <td>1.0</td>\n",
       "      <td>3</td>\n",
       "      <td>421094</td>\n",
       "      <td>92114</td>\n",
       "      <td>13159200</td>\n",
       "      <td>1992</td>\n",
       "      <td>2012</td>\n",
       "      <td>...</td>\n",
       "      <td>0</td>\n",
       "      <td>0</td>\n",
       "      <td>0</td>\n",
       "      <td>0</td>\n",
       "      <td>0</td>\n",
       "      <td>1</td>\n",
       "      <td>0</td>\n",
       "      <td>0</td>\n",
       "      <td>0</td>\n",
       "      <td>0</td>\n",
       "    </tr>\n",
       "    <tr>\n",
       "      <th>3</th>\n",
       "      <td>1855</td>\n",
       "      <td>14</td>\n",
       "      <td>3.0</td>\n",
       "      <td>2.0</td>\n",
       "      <td>5</td>\n",
       "      <td>356321</td>\n",
       "      <td>77042</td>\n",
       "      <td>9630290</td>\n",
       "      <td>1988</td>\n",
       "      <td>2010</td>\n",
       "      <td>...</td>\n",
       "      <td>0</td>\n",
       "      <td>0</td>\n",
       "      <td>0</td>\n",
       "      <td>0</td>\n",
       "      <td>1</td>\n",
       "      <td>0</td>\n",
       "      <td>0</td>\n",
       "      <td>1</td>\n",
       "      <td>0</td>\n",
       "      <td>1</td>\n",
       "    </tr>\n",
       "    <tr>\n",
       "      <th>4</th>\n",
       "      <td>1226</td>\n",
       "      <td>84</td>\n",
       "      <td>1.0</td>\n",
       "      <td>1.0</td>\n",
       "      <td>3</td>\n",
       "      <td>237000</td>\n",
       "      <td>74063</td>\n",
       "      <td>7406250</td>\n",
       "      <td>1979</td>\n",
       "      <td>2009</td>\n",
       "      <td>...</td>\n",
       "      <td>0</td>\n",
       "      <td>0</td>\n",
       "      <td>1</td>\n",
       "      <td>0</td>\n",
       "      <td>0</td>\n",
       "      <td>1</td>\n",
       "      <td>0</td>\n",
       "      <td>1</td>\n",
       "      <td>0</td>\n",
       "      <td>0</td>\n",
       "    </tr>\n",
       "  </tbody>\n",
       "</table>\n",
       "<p>5 rows × 22 columns</p>\n",
       "</div>"
      ],
      "text/plain": [
       "   INT_SQFT  DIST_MAINROAD  N_BEDROOM  N_BATHROOM  N_ROOM  REG_FEE  COMMIS  \\\n",
       "0      1004            131        1.0         1.0       3   380000  144400   \n",
       "1      1986             26        2.0         1.0       5   760122  304049   \n",
       "2       909             70        1.0         1.0       3   421094   92114   \n",
       "3      1855             14        3.0         2.0       5   356321   77042   \n",
       "4      1226             84        1.0         1.0       3   237000   74063   \n",
       "\n",
       "   SALES_PRICE  BUILD_YEAR  SALE_YEAR  ...  AREA_Chrompet  AREA_KK Nagar  \\\n",
       "0      7600000        1967       2011  ...              0              0   \n",
       "1     21717770        1995       2006  ...              0              0   \n",
       "2     13159200        1992       2012  ...              0              0   \n",
       "3      9630290        1988       2010  ...              0              0   \n",
       "4      7406250        1979       2009  ...              0              0   \n",
       "\n",
       "   AREA_Karapakkam  AREA_T Nagar  AREA_Velachery  PARK_FACIL_Yes  \\\n",
       "0                1             0               0               1   \n",
       "1                0             0               0               0   \n",
       "2                0             0               0               1   \n",
       "3                0             0               1               0   \n",
       "4                1             0               0               1   \n",
       "\n",
       "   BUILDTYPE_House  BUILDTYPE_Others  STREET_No Access  STREET_Paved  \n",
       "0                0                 0                 0             1  \n",
       "1                0                 0                 0             0  \n",
       "2                0                 0                 0             0  \n",
       "3                0                 1                 0             1  \n",
       "4                0                 1                 0             0  \n",
       "\n",
       "[5 rows x 22 columns]"
      ]
     },
     "execution_count": 27,
     "metadata": {},
     "output_type": "execute_result"
    }
   ],
   "source": [
    "df = pd.get_dummies(df,drop_first=True)\n",
    "df.head()"
   ]
  },
  {
   "cell_type": "code",
   "execution_count": 28,
   "id": "286b4f97",
   "metadata": {},
   "outputs": [
    {
     "data": {
      "text/html": [
       "<div>\n",
       "<style scoped>\n",
       "    .dataframe tbody tr th:only-of-type {\n",
       "        vertical-align: middle;\n",
       "    }\n",
       "\n",
       "    .dataframe tbody tr th {\n",
       "        vertical-align: top;\n",
       "    }\n",
       "\n",
       "    .dataframe thead th {\n",
       "        text-align: right;\n",
       "    }\n",
       "</style>\n",
       "<table border=\"1\" class=\"dataframe\">\n",
       "  <thead>\n",
       "    <tr style=\"text-align: right;\">\n",
       "      <th></th>\n",
       "      <th>INT_SQFT</th>\n",
       "      <th>DIST_MAINROAD</th>\n",
       "      <th>N_BEDROOM</th>\n",
       "      <th>N_BATHROOM</th>\n",
       "      <th>N_ROOM</th>\n",
       "      <th>REG_FEE</th>\n",
       "      <th>COMMIS</th>\n",
       "      <th>SALES_PRICE</th>\n",
       "      <th>BUILD_YEAR</th>\n",
       "      <th>SALE_YEAR</th>\n",
       "      <th>...</th>\n",
       "      <th>AREA_Chrompet</th>\n",
       "      <th>AREA_KK Nagar</th>\n",
       "      <th>AREA_Karapakkam</th>\n",
       "      <th>AREA_T Nagar</th>\n",
       "      <th>AREA_Velachery</th>\n",
       "      <th>PARK_FACIL_Yes</th>\n",
       "      <th>BUILDTYPE_House</th>\n",
       "      <th>BUILDTYPE_Others</th>\n",
       "      <th>STREET_No Access</th>\n",
       "      <th>STREET_Paved</th>\n",
       "    </tr>\n",
       "  </thead>\n",
       "  <tbody>\n",
       "    <tr>\n",
       "      <th>SALES_PRICE</th>\n",
       "      <td>0.612125</td>\n",
       "      <td>0.018783</td>\n",
       "      <td>0.330999</td>\n",
       "      <td>0.108865</td>\n",
       "      <td>0.60276</td>\n",
       "      <td>0.878148</td>\n",
       "      <td>0.626275</td>\n",
       "      <td>1.0</td>\n",
       "      <td>0.116043</td>\n",
       "      <td>0.000906</td>\n",
       "      <td>...</td>\n",
       "      <td>-0.131183</td>\n",
       "      <td>0.193062</td>\n",
       "      <td>-0.460068</td>\n",
       "      <td>0.34502</td>\n",
       "      <td>0.016186</td>\n",
       "      <td>0.146428</td>\n",
       "      <td>-0.344982</td>\n",
       "      <td>-0.201783</td>\n",
       "      <td>-0.149341</td>\n",
       "      <td>0.032493</td>\n",
       "    </tr>\n",
       "  </tbody>\n",
       "</table>\n",
       "<p>1 rows × 22 columns</p>\n",
       "</div>"
      ],
      "text/plain": [
       "             INT_SQFT  DIST_MAINROAD  N_BEDROOM  N_BATHROOM   N_ROOM  \\\n",
       "SALES_PRICE  0.612125       0.018783   0.330999    0.108865  0.60276   \n",
       "\n",
       "              REG_FEE    COMMIS  SALES_PRICE  BUILD_YEAR  SALE_YEAR  ...  \\\n",
       "SALES_PRICE  0.878148  0.626275          1.0    0.116043   0.000906  ...   \n",
       "\n",
       "             AREA_Chrompet  AREA_KK Nagar  AREA_Karapakkam  AREA_T Nagar  \\\n",
       "SALES_PRICE      -0.131183       0.193062        -0.460068       0.34502   \n",
       "\n",
       "             AREA_Velachery  PARK_FACIL_Yes  BUILDTYPE_House  \\\n",
       "SALES_PRICE        0.016186        0.146428        -0.344982   \n",
       "\n",
       "             BUILDTYPE_Others  STREET_No Access  STREET_Paved  \n",
       "SALES_PRICE         -0.201783         -0.149341      0.032493  \n",
       "\n",
       "[1 rows x 22 columns]"
      ]
     },
     "execution_count": 28,
     "metadata": {},
     "output_type": "execute_result"
    }
   ],
   "source": [
    "df.corr().iloc[[7]]"
   ]
  },
  {
   "cell_type": "code",
   "execution_count": 29,
   "id": "4c8cb0e1",
   "metadata": {},
   "outputs": [
    {
     "data": {
      "text/plain": [
       "SALES_PRICE         1.000000\n",
       "REG_FEE             0.878148\n",
       "COMMIS              0.626275\n",
       "INT_SQFT            0.612125\n",
       "N_ROOM              0.602760\n",
       "AREA_Anna Nagar     0.400390\n",
       "AREA_T Nagar        0.345020\n",
       "N_BEDROOM           0.330999\n",
       "AREA_KK Nagar       0.193062\n",
       "PARK_FACIL_Yes      0.146428\n",
       "BUILD_YEAR          0.116043\n",
       "N_BATHROOM          0.108865\n",
       "STREET_Paved        0.032493\n",
       "DIST_MAINROAD       0.018783\n",
       "AREA_Velachery      0.016186\n",
       "SALE_YEAR           0.000906\n",
       "SOLD_AGE           -0.118842\n",
       "AREA_Chrompet      -0.131183\n",
       "STREET_No Access   -0.149341\n",
       "BUILDTYPE_Others   -0.201783\n",
       "BUILDTYPE_House    -0.344982\n",
       "AREA_Karapakkam    -0.460068\n",
       "Name: SALES_PRICE, dtype: float64"
      ]
     },
     "execution_count": 29,
     "metadata": {},
     "output_type": "execute_result"
    }
   ],
   "source": [
    "df.corr()['SALES_PRICE'].sort_values(ascending=False)"
   ]
  },
  {
   "cell_type": "code",
   "execution_count": 30,
   "id": "7c48cb38",
   "metadata": {},
   "outputs": [],
   "source": [
    "#From above it is clear that INT_SQFT, N_ROOMS decides the SALES_PRICE"
   ]
  },
  {
   "cell_type": "markdown",
   "id": "c0ad91c1",
   "metadata": {},
   "source": [
    "# Model"
   ]
  },
  {
   "cell_type": "code",
   "execution_count": 31,
   "id": "4a92458b",
   "metadata": {},
   "outputs": [],
   "source": [
    "from sklearn.linear_model import LinearRegression\n",
    "from sklearn.model_selection import train_test_split, cross_val_score\n",
    "from xgboost import XGBRegressor\n",
    "from sklearn.ensemble import RandomForestRegressor, GradientBoostingRegressor"
   ]
  },
  {
   "cell_type": "code",
   "execution_count": 32,
   "id": "1e90ebee",
   "metadata": {},
   "outputs": [],
   "source": [
    "x = df[['INT_SQFT','DIST_MAINROAD','N_BEDROOM','N_BATHROOM','N_ROOM','REG_FEE','COMMIS','BUILD_YEAR','SALE_YEAR']]"
   ]
  },
  {
   "cell_type": "code",
   "execution_count": 33,
   "id": "4b8cd4d7",
   "metadata": {},
   "outputs": [],
   "source": [
    "y = df[\"SALES_PRICE\"]"
   ]
  },
  {
   "cell_type": "code",
   "execution_count": 34,
   "id": "adc5ccea",
   "metadata": {},
   "outputs": [],
   "source": [
    "x_train,x_test,y_train,y_test = train_test_split(x,y,test_size=0.3,random_state=0)"
   ]
  },
  {
   "cell_type": "code",
   "execution_count": 35,
   "id": "4ad2de90",
   "metadata": {},
   "outputs": [
    {
     "data": {
      "text/html": [
       "<style>#sk-container-id-1 {color: black;background-color: white;}#sk-container-id-1 pre{padding: 0;}#sk-container-id-1 div.sk-toggleable {background-color: white;}#sk-container-id-1 label.sk-toggleable__label {cursor: pointer;display: block;width: 100%;margin-bottom: 0;padding: 0.3em;box-sizing: border-box;text-align: center;}#sk-container-id-1 label.sk-toggleable__label-arrow:before {content: \"▸\";float: left;margin-right: 0.25em;color: #696969;}#sk-container-id-1 label.sk-toggleable__label-arrow:hover:before {color: black;}#sk-container-id-1 div.sk-estimator:hover label.sk-toggleable__label-arrow:before {color: black;}#sk-container-id-1 div.sk-toggleable__content {max-height: 0;max-width: 0;overflow: hidden;text-align: left;background-color: #f0f8ff;}#sk-container-id-1 div.sk-toggleable__content pre {margin: 0.2em;color: black;border-radius: 0.25em;background-color: #f0f8ff;}#sk-container-id-1 input.sk-toggleable__control:checked~div.sk-toggleable__content {max-height: 200px;max-width: 100%;overflow: auto;}#sk-container-id-1 input.sk-toggleable__control:checked~label.sk-toggleable__label-arrow:before {content: \"▾\";}#sk-container-id-1 div.sk-estimator input.sk-toggleable__control:checked~label.sk-toggleable__label {background-color: #d4ebff;}#sk-container-id-1 div.sk-label input.sk-toggleable__control:checked~label.sk-toggleable__label {background-color: #d4ebff;}#sk-container-id-1 input.sk-hidden--visually {border: 0;clip: rect(1px 1px 1px 1px);clip: rect(1px, 1px, 1px, 1px);height: 1px;margin: -1px;overflow: hidden;padding: 0;position: absolute;width: 1px;}#sk-container-id-1 div.sk-estimator {font-family: monospace;background-color: #f0f8ff;border: 1px dotted black;border-radius: 0.25em;box-sizing: border-box;margin-bottom: 0.5em;}#sk-container-id-1 div.sk-estimator:hover {background-color: #d4ebff;}#sk-container-id-1 div.sk-parallel-item::after {content: \"\";width: 100%;border-bottom: 1px solid gray;flex-grow: 1;}#sk-container-id-1 div.sk-label:hover label.sk-toggleable__label {background-color: #d4ebff;}#sk-container-id-1 div.sk-serial::before {content: \"\";position: absolute;border-left: 1px solid gray;box-sizing: border-box;top: 0;bottom: 0;left: 50%;z-index: 0;}#sk-container-id-1 div.sk-serial {display: flex;flex-direction: column;align-items: center;background-color: white;padding-right: 0.2em;padding-left: 0.2em;position: relative;}#sk-container-id-1 div.sk-item {position: relative;z-index: 1;}#sk-container-id-1 div.sk-parallel {display: flex;align-items: stretch;justify-content: center;background-color: white;position: relative;}#sk-container-id-1 div.sk-item::before, #sk-container-id-1 div.sk-parallel-item::before {content: \"\";position: absolute;border-left: 1px solid gray;box-sizing: border-box;top: 0;bottom: 0;left: 50%;z-index: -1;}#sk-container-id-1 div.sk-parallel-item {display: flex;flex-direction: column;z-index: 1;position: relative;background-color: white;}#sk-container-id-1 div.sk-parallel-item:first-child::after {align-self: flex-end;width: 50%;}#sk-container-id-1 div.sk-parallel-item:last-child::after {align-self: flex-start;width: 50%;}#sk-container-id-1 div.sk-parallel-item:only-child::after {width: 0;}#sk-container-id-1 div.sk-dashed-wrapped {border: 1px dashed gray;margin: 0 0.4em 0.5em 0.4em;box-sizing: border-box;padding-bottom: 0.4em;background-color: white;}#sk-container-id-1 div.sk-label label {font-family: monospace;font-weight: bold;display: inline-block;line-height: 1.2em;}#sk-container-id-1 div.sk-label-container {text-align: center;}#sk-container-id-1 div.sk-container {/* jupyter's `normalize.less` sets `[hidden] { display: none; }` but bootstrap.min.css set `[hidden] { display: none !important; }` so we also need the `!important` here to be able to override the default hidden behavior on the sphinx rendered scikit-learn.org. See: https://github.com/scikit-learn/scikit-learn/issues/21755 */display: inline-block !important;position: relative;}#sk-container-id-1 div.sk-text-repr-fallback {display: none;}</style><div id=\"sk-container-id-1\" class=\"sk-top-container\"><div class=\"sk-text-repr-fallback\"><pre>LinearRegression()</pre><b>In a Jupyter environment, please rerun this cell to show the HTML representation or trust the notebook. <br />On GitHub, the HTML representation is unable to render, please try loading this page with nbviewer.org.</b></div><div class=\"sk-container\" hidden><div class=\"sk-item\"><div class=\"sk-estimator sk-toggleable\"><input class=\"sk-toggleable__control sk-hidden--visually\" id=\"sk-estimator-id-1\" type=\"checkbox\" checked><label for=\"sk-estimator-id-1\" class=\"sk-toggleable__label sk-toggleable__label-arrow\">LinearRegression</label><div class=\"sk-toggleable__content\"><pre>LinearRegression()</pre></div></div></div></div></div>"
      ],
      "text/plain": [
       "LinearRegression()"
      ]
     },
     "execution_count": 35,
     "metadata": {},
     "output_type": "execute_result"
    }
   ],
   "source": [
    "reg=LinearRegression()\n",
    "reg.fit(x_train,y_train)"
   ]
  },
  {
   "cell_type": "code",
   "execution_count": 36,
   "id": "a0200032",
   "metadata": {},
   "outputs": [
    {
     "data": {
      "text/plain": [
       "array([11128814.85677828, 12046345.62658609, 15950612.61854535, ...,\n",
       "       14893011.72107784, 10347941.03493526,  8426359.47476719])"
      ]
     },
     "execution_count": 36,
     "metadata": {},
     "output_type": "execute_result"
    }
   ],
   "source": [
    "reg.predict(x_test)"
   ]
  },
  {
   "cell_type": "code",
   "execution_count": 37,
   "id": "d4f8fae5",
   "metadata": {},
   "outputs": [
    {
     "data": {
      "text/plain": [
       "3913    13376150\n",
       "2726    12857440\n",
       "6220    19124310\n",
       "2716     4905000\n",
       "5459    13534450\n",
       "          ...   \n",
       "549      7511125\n",
       "6275     9414770\n",
       "6772    13614160\n",
       "2861     8415125\n",
       "5407     6479750\n",
       "Name: SALES_PRICE, Length: 2133, dtype: int64"
      ]
     },
     "execution_count": 37,
     "metadata": {},
     "output_type": "execute_result"
    }
   ],
   "source": [
    "y_test"
   ]
  },
  {
   "cell_type": "code",
   "execution_count": 38,
   "id": "0ae2700d",
   "metadata": {},
   "outputs": [
    {
     "data": {
      "text/plain": [
       "0.8250671095134072"
      ]
     },
     "execution_count": 38,
     "metadata": {},
     "output_type": "execute_result"
    }
   ],
   "source": [
    "reg.score(x_test,y_test)"
   ]
  },
  {
   "cell_type": "markdown",
   "id": "48daed00",
   "metadata": {},
   "source": [
    "# Random Forest Regressor"
   ]
  },
  {
   "cell_type": "code",
   "execution_count": 39,
   "id": "5567b520",
   "metadata": {
    "scrolled": true
   },
   "outputs": [
    {
     "data": {
      "text/plain": [
       "0.8630984527660238"
      ]
     },
     "execution_count": 39,
     "metadata": {},
     "output_type": "execute_result"
    }
   ],
   "source": [
    "rfr=RandomForestRegressor().fit(x_train,y_train)\n",
    "rf_pred = rfr.predict(x_test)\n",
    "rf_reg_score = rfr.score(x_test,y_test)\n",
    "rf_reg_score"
   ]
  },
  {
   "cell_type": "markdown",
   "id": "510795c7",
   "metadata": {},
   "source": [
    "# XG Boost Regressor"
   ]
  },
  {
   "cell_type": "code",
   "execution_count": 40,
   "id": "00ce22a8",
   "metadata": {},
   "outputs": [
    {
     "data": {
      "text/plain": [
       "0.8628504156934628"
      ]
     },
     "execution_count": 40,
     "metadata": {},
     "output_type": "execute_result"
    }
   ],
   "source": [
    "xgbr = XGBRegressor().fit(x_train,y_train)\n",
    "xgbr_pred = xgbr.predict(x_test)\n",
    "xgbr_score = xgbr.score(x_test,y_test)\n",
    "xgbr_score"
   ]
  },
  {
   "cell_type": "code",
   "execution_count": 41,
   "id": "1a6f0300",
   "metadata": {},
   "outputs": [
    {
     "data": {
      "text/html": [
       "<div>\n",
       "<style scoped>\n",
       "    .dataframe tbody tr th:only-of-type {\n",
       "        vertical-align: middle;\n",
       "    }\n",
       "\n",
       "    .dataframe tbody tr th {\n",
       "        vertical-align: top;\n",
       "    }\n",
       "\n",
       "    .dataframe thead th {\n",
       "        text-align: right;\n",
       "    }\n",
       "</style>\n",
       "<table border=\"1\" class=\"dataframe\">\n",
       "  <thead>\n",
       "    <tr style=\"text-align: right;\">\n",
       "      <th></th>\n",
       "      <th>Model</th>\n",
       "      <th>Score</th>\n",
       "    </tr>\n",
       "  </thead>\n",
       "  <tbody>\n",
       "    <tr>\n",
       "      <th>2</th>\n",
       "      <td>Random Forest Regressor</td>\n",
       "      <td>0.863098</td>\n",
       "    </tr>\n",
       "    <tr>\n",
       "      <th>1</th>\n",
       "      <td>XG Boost Regressor</td>\n",
       "      <td>0.862850</td>\n",
       "    </tr>\n",
       "    <tr>\n",
       "      <th>0</th>\n",
       "      <td>Linear regression</td>\n",
       "      <td>0.825067</td>\n",
       "    </tr>\n",
       "  </tbody>\n",
       "</table>\n",
       "</div>"
      ],
      "text/plain": [
       "                     Model     Score\n",
       "2  Random Forest Regressor  0.863098\n",
       "1       XG Boost Regressor  0.862850\n",
       "0        Linear regression  0.825067"
      ]
     },
     "execution_count": 41,
     "metadata": {},
     "output_type": "execute_result"
    }
   ],
   "source": [
    "model = pd.DataFrame({'Model': ['Linear regression','XG Boost Regressor','Random Forest Regressor'],\n",
    "                     'Score': [reg.score(x_test,y_test),xgbr_score,rf_reg_score]})\n",
    "model.sort_values(by='Score',ascending=False)"
   ]
  },
  {
   "cell_type": "code",
   "execution_count": null,
   "id": "34600051",
   "metadata": {},
   "outputs": [],
   "source": []
  },
  {
   "cell_type": "code",
   "execution_count": null,
   "id": "d52838b4",
   "metadata": {},
   "outputs": [],
   "source": []
  },
  {
   "cell_type": "code",
   "execution_count": null,
   "id": "ee83002c",
   "metadata": {},
   "outputs": [],
   "source": []
  }
 ],
 "metadata": {
  "kernelspec": {
   "display_name": "Python 3 (ipykernel)",
   "language": "python",
   "name": "python3"
  },
  "language_info": {
   "codemirror_mode": {
    "name": "ipython",
    "version": 3
   },
   "file_extension": ".py",
   "mimetype": "text/x-python",
   "name": "python",
   "nbconvert_exporter": "python",
   "pygments_lexer": "ipython3",
   "version": "3.8.5"
  }
 },
 "nbformat": 4,
 "nbformat_minor": 5
}
